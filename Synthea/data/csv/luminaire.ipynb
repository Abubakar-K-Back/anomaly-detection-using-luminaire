{
 "cells": [
  {
   "cell_type": "code",
   "execution_count": 98,
   "metadata": {},
   "outputs": [],
   "source": [
    "import pandas as pd\n",
    "import matplotlib.pyplot as plt\n",
    "from datetime import datetime as d\n",
    "pd.set_option('display.max_rows', 500)"
   ]
  },
  {
   "cell_type": "code",
   "execution_count": 2,
   "metadata": {},
   "outputs": [],
   "source": [
    "allergies=pd.read_csv(\"allergies.csv\")\n",
    "patients=pd.read_csv(\"patients.csv\")\n",
    "careplans=pd.read_csv(\"careplans.csv\")\n",
    "encounters=pd.read_csv(\"encounters.csv\")\n",
    "imaging_studies=pd.read_csv(\"imaging_studies.csv\")\n",
    "immunizations=pd.read_csv(\"immunizations.csv\")\n",
    "medications=pd.read_csv(\"medications.csv\")\n",
    "payer_transitions=pd.read_csv(\"payer_transitions.csv\")\n",
    "providers=pd.read_csv(\"providers.csv\")\n",
    "supplies=pd.read_csv(\"supplies.csv\")\n",
    "organizations=pd.read_csv(\"organizations.csv\")\n",
    "observations=pd.read_csv(\"observations.csv\")\n",
    "conditions=pd.read_csv(\"conditions.csv\")\n",
    "# claim_transactions=pd.read_csv(\"claims_transactions.csv\")"
   ]
  },
  {
   "cell_type": "code",
   "execution_count": 3,
   "metadata": {},
   "outputs": [
    {
     "data": {
      "text/html": [
       "<div>\n",
       "<style scoped>\n",
       "    .dataframe tbody tr th:only-of-type {\n",
       "        vertical-align: middle;\n",
       "    }\n",
       "\n",
       "    .dataframe tbody tr th {\n",
       "        vertical-align: top;\n",
       "    }\n",
       "\n",
       "    .dataframe thead th {\n",
       "        text-align: right;\n",
       "    }\n",
       "</style>\n",
       "<table border=\"1\" class=\"dataframe\">\n",
       "  <thead>\n",
       "    <tr style=\"text-align: right;\">\n",
       "      <th></th>\n",
       "      <th>DATE</th>\n",
       "      <th>PATIENT</th>\n",
       "      <th>ENCOUNTER</th>\n",
       "      <th>CODE</th>\n",
       "      <th>DESCRIPTION</th>\n",
       "      <th>VALUE</th>\n",
       "      <th>UNITS</th>\n",
       "      <th>TYPE</th>\n",
       "    </tr>\n",
       "  </thead>\n",
       "  <tbody>\n",
       "    <tr>\n",
       "      <th>0</th>\n",
       "      <td>1980-11-19T16:18:19Z</td>\n",
       "      <td>b0eb64e9-3411-b431-e0c6-5c08cfbf12d1</td>\n",
       "      <td>66daff73-e9ff-b256-36bc-e07c1c0c2b17</td>\n",
       "      <td>8302-2</td>\n",
       "      <td>Body Height</td>\n",
       "      <td>52.2</td>\n",
       "      <td>cm</td>\n",
       "      <td>numeric</td>\n",
       "    </tr>\n",
       "    <tr>\n",
       "      <th>1</th>\n",
       "      <td>1980-11-19T16:18:19Z</td>\n",
       "      <td>b0eb64e9-3411-b431-e0c6-5c08cfbf12d1</td>\n",
       "      <td>66daff73-e9ff-b256-36bc-e07c1c0c2b17</td>\n",
       "      <td>72514-3</td>\n",
       "      <td>Pain severity - 0-10 verbal numeric rating [Sc...</td>\n",
       "      <td>2.0</td>\n",
       "      <td>{score}</td>\n",
       "      <td>numeric</td>\n",
       "    </tr>\n",
       "    <tr>\n",
       "      <th>2</th>\n",
       "      <td>1980-11-19T16:18:19Z</td>\n",
       "      <td>b0eb64e9-3411-b431-e0c6-5c08cfbf12d1</td>\n",
       "      <td>66daff73-e9ff-b256-36bc-e07c1c0c2b17</td>\n",
       "      <td>29463-7</td>\n",
       "      <td>Body Weight</td>\n",
       "      <td>3.9</td>\n",
       "      <td>kg</td>\n",
       "      <td>numeric</td>\n",
       "    </tr>\n",
       "    <tr>\n",
       "      <th>3</th>\n",
       "      <td>1980-11-19T16:18:19Z</td>\n",
       "      <td>b0eb64e9-3411-b431-e0c6-5c08cfbf12d1</td>\n",
       "      <td>66daff73-e9ff-b256-36bc-e07c1c0c2b17</td>\n",
       "      <td>77606-2</td>\n",
       "      <td>Weight-for-length Per age and sex</td>\n",
       "      <td>43.6</td>\n",
       "      <td>%</td>\n",
       "      <td>numeric</td>\n",
       "    </tr>\n",
       "    <tr>\n",
       "      <th>4</th>\n",
       "      <td>1980-11-19T16:18:19Z</td>\n",
       "      <td>b0eb64e9-3411-b431-e0c6-5c08cfbf12d1</td>\n",
       "      <td>66daff73-e9ff-b256-36bc-e07c1c0c2b17</td>\n",
       "      <td>9843-4</td>\n",
       "      <td>Head Occipital-frontal circumference</td>\n",
       "      <td>35.4</td>\n",
       "      <td>cm</td>\n",
       "      <td>numeric</td>\n",
       "    </tr>\n",
       "  </tbody>\n",
       "</table>\n",
       "</div>"
      ],
      "text/plain": [
       "                   DATE                               PATIENT  \\\n",
       "0  1980-11-19T16:18:19Z  b0eb64e9-3411-b431-e0c6-5c08cfbf12d1   \n",
       "1  1980-11-19T16:18:19Z  b0eb64e9-3411-b431-e0c6-5c08cfbf12d1   \n",
       "2  1980-11-19T16:18:19Z  b0eb64e9-3411-b431-e0c6-5c08cfbf12d1   \n",
       "3  1980-11-19T16:18:19Z  b0eb64e9-3411-b431-e0c6-5c08cfbf12d1   \n",
       "4  1980-11-19T16:18:19Z  b0eb64e9-3411-b431-e0c6-5c08cfbf12d1   \n",
       "\n",
       "                              ENCOUNTER     CODE  \\\n",
       "0  66daff73-e9ff-b256-36bc-e07c1c0c2b17   8302-2   \n",
       "1  66daff73-e9ff-b256-36bc-e07c1c0c2b17  72514-3   \n",
       "2  66daff73-e9ff-b256-36bc-e07c1c0c2b17  29463-7   \n",
       "3  66daff73-e9ff-b256-36bc-e07c1c0c2b17  77606-2   \n",
       "4  66daff73-e9ff-b256-36bc-e07c1c0c2b17   9843-4   \n",
       "\n",
       "                                         DESCRIPTION VALUE    UNITS     TYPE  \n",
       "0                                        Body Height  52.2       cm  numeric  \n",
       "1  Pain severity - 0-10 verbal numeric rating [Sc...   2.0  {score}  numeric  \n",
       "2                                        Body Weight   3.9       kg  numeric  \n",
       "3                  Weight-for-length Per age and sex  43.6        %  numeric  \n",
       "4               Head Occipital-frontal circumference  35.4       cm  numeric  "
      ]
     },
     "execution_count": 3,
     "metadata": {},
     "output_type": "execute_result"
    }
   ],
   "source": [
    "observations.head()"
   ]
  },
  {
   "cell_type": "code",
   "execution_count": 4,
   "metadata": {},
   "outputs": [
    {
     "data": {
      "text/plain": [
       "6003"
      ]
     },
     "execution_count": 4,
     "metadata": {},
     "output_type": "execute_result"
    }
   ],
   "source": [
    "len(encounters['Id'].unique())"
   ]
  },
  {
   "cell_type": "code",
   "execution_count": 5,
   "metadata": {},
   "outputs": [
    {
     "data": {
      "text/plain": [
       "2752"
      ]
     },
     "execution_count": 5,
     "metadata": {},
     "output_type": "execute_result"
    }
   ],
   "source": [
    "len(observations['ENCOUNTER'].unique())"
   ]
  },
  {
   "cell_type": "code",
   "execution_count": 6,
   "metadata": {},
   "outputs": [
    {
     "data": {
      "text/plain": [
       "array(['wellness', 'ambulatory', 'emergency', 'outpatient', 'urgentcare',\n",
       "       'inpatient'], dtype=object)"
      ]
     },
     "execution_count": 6,
     "metadata": {},
     "output_type": "execute_result"
    }
   ],
   "source": [
    "encounters['ENCOUNTERCLASS'].unique()"
   ]
  },
  {
   "cell_type": "code",
   "execution_count": 7,
   "metadata": {},
   "outputs": [
    {
     "data": {
      "text/html": [
       "<div>\n",
       "<style scoped>\n",
       "    .dataframe tbody tr th:only-of-type {\n",
       "        vertical-align: middle;\n",
       "    }\n",
       "\n",
       "    .dataframe tbody tr th {\n",
       "        vertical-align: top;\n",
       "    }\n",
       "\n",
       "    .dataframe thead th {\n",
       "        text-align: right;\n",
       "    }\n",
       "</style>\n",
       "<table border=\"1\" class=\"dataframe\">\n",
       "  <thead>\n",
       "    <tr style=\"text-align: right;\">\n",
       "      <th></th>\n",
       "      <th>DATE</th>\n",
       "      <th>PATIENT</th>\n",
       "      <th>ENCOUNTER</th>\n",
       "      <th>CODE</th>\n",
       "      <th>DESCRIPTION</th>\n",
       "      <th>VALUE</th>\n",
       "      <th>UNITS</th>\n",
       "      <th>TYPE</th>\n",
       "    </tr>\n",
       "  </thead>\n",
       "  <tbody>\n",
       "    <tr>\n",
       "      <th>0</th>\n",
       "      <td>1980-11-19T16:18:19Z</td>\n",
       "      <td>b0eb64e9-3411-b431-e0c6-5c08cfbf12d1</td>\n",
       "      <td>66daff73-e9ff-b256-36bc-e07c1c0c2b17</td>\n",
       "      <td>8302-2</td>\n",
       "      <td>Body Height</td>\n",
       "      <td>52.2</td>\n",
       "      <td>cm</td>\n",
       "      <td>numeric</td>\n",
       "    </tr>\n",
       "    <tr>\n",
       "      <th>1</th>\n",
       "      <td>1980-11-19T16:18:19Z</td>\n",
       "      <td>b0eb64e9-3411-b431-e0c6-5c08cfbf12d1</td>\n",
       "      <td>66daff73-e9ff-b256-36bc-e07c1c0c2b17</td>\n",
       "      <td>72514-3</td>\n",
       "      <td>Pain severity - 0-10 verbal numeric rating [Sc...</td>\n",
       "      <td>2.0</td>\n",
       "      <td>{score}</td>\n",
       "      <td>numeric</td>\n",
       "    </tr>\n",
       "    <tr>\n",
       "      <th>2</th>\n",
       "      <td>1980-11-19T16:18:19Z</td>\n",
       "      <td>b0eb64e9-3411-b431-e0c6-5c08cfbf12d1</td>\n",
       "      <td>66daff73-e9ff-b256-36bc-e07c1c0c2b17</td>\n",
       "      <td>29463-7</td>\n",
       "      <td>Body Weight</td>\n",
       "      <td>3.9</td>\n",
       "      <td>kg</td>\n",
       "      <td>numeric</td>\n",
       "    </tr>\n",
       "    <tr>\n",
       "      <th>3</th>\n",
       "      <td>1980-11-19T16:18:19Z</td>\n",
       "      <td>b0eb64e9-3411-b431-e0c6-5c08cfbf12d1</td>\n",
       "      <td>66daff73-e9ff-b256-36bc-e07c1c0c2b17</td>\n",
       "      <td>77606-2</td>\n",
       "      <td>Weight-for-length Per age and sex</td>\n",
       "      <td>43.6</td>\n",
       "      <td>%</td>\n",
       "      <td>numeric</td>\n",
       "    </tr>\n",
       "    <tr>\n",
       "      <th>4</th>\n",
       "      <td>1980-11-19T16:18:19Z</td>\n",
       "      <td>b0eb64e9-3411-b431-e0c6-5c08cfbf12d1</td>\n",
       "      <td>66daff73-e9ff-b256-36bc-e07c1c0c2b17</td>\n",
       "      <td>9843-4</td>\n",
       "      <td>Head Occipital-frontal circumference</td>\n",
       "      <td>35.4</td>\n",
       "      <td>cm</td>\n",
       "      <td>numeric</td>\n",
       "    </tr>\n",
       "  </tbody>\n",
       "</table>\n",
       "</div>"
      ],
      "text/plain": [
       "                   DATE                               PATIENT  \\\n",
       "0  1980-11-19T16:18:19Z  b0eb64e9-3411-b431-e0c6-5c08cfbf12d1   \n",
       "1  1980-11-19T16:18:19Z  b0eb64e9-3411-b431-e0c6-5c08cfbf12d1   \n",
       "2  1980-11-19T16:18:19Z  b0eb64e9-3411-b431-e0c6-5c08cfbf12d1   \n",
       "3  1980-11-19T16:18:19Z  b0eb64e9-3411-b431-e0c6-5c08cfbf12d1   \n",
       "4  1980-11-19T16:18:19Z  b0eb64e9-3411-b431-e0c6-5c08cfbf12d1   \n",
       "\n",
       "                              ENCOUNTER     CODE  \\\n",
       "0  66daff73-e9ff-b256-36bc-e07c1c0c2b17   8302-2   \n",
       "1  66daff73-e9ff-b256-36bc-e07c1c0c2b17  72514-3   \n",
       "2  66daff73-e9ff-b256-36bc-e07c1c0c2b17  29463-7   \n",
       "3  66daff73-e9ff-b256-36bc-e07c1c0c2b17  77606-2   \n",
       "4  66daff73-e9ff-b256-36bc-e07c1c0c2b17   9843-4   \n",
       "\n",
       "                                         DESCRIPTION VALUE    UNITS     TYPE  \n",
       "0                                        Body Height  52.2       cm  numeric  \n",
       "1  Pain severity - 0-10 verbal numeric rating [Sc...   2.0  {score}  numeric  \n",
       "2                                        Body Weight   3.9       kg  numeric  \n",
       "3                  Weight-for-length Per age and sex  43.6        %  numeric  \n",
       "4               Head Occipital-frontal circumference  35.4       cm  numeric  "
      ]
     },
     "execution_count": 7,
     "metadata": {},
     "output_type": "execute_result"
    }
   ],
   "source": [
    "observations.head()"
   ]
  },
  {
   "cell_type": "code",
   "execution_count": 8,
   "metadata": {},
   "outputs": [
    {
     "data": {
      "text/plain": [
       "array(['wellness', 'ambulatory', 'emergency', 'outpatient', 'urgentcare',\n",
       "       'inpatient'], dtype=object)"
      ]
     },
     "execution_count": 8,
     "metadata": {},
     "output_type": "execute_result"
    }
   ],
   "source": [
    "encounters['ENCOUNTERCLASS'].unique()"
   ]
  },
  {
   "cell_type": "code",
   "execution_count": 9,
   "metadata": {},
   "outputs": [
    {
     "data": {
      "text/plain": [
       "47007"
      ]
     },
     "execution_count": 9,
     "metadata": {},
     "output_type": "execute_result"
    }
   ],
   "source": [
    "len(observations['VALUE'])"
   ]
  },
  {
   "cell_type": "code",
   "execution_count": 10,
   "metadata": {
    "collapsed": true
   },
   "outputs": [],
   "source": [
    "Dates=observations['DATE']"
   ]
  },
  {
   "cell_type": "code",
   "execution_count": 11,
   "metadata": {
    "collapsed": true
   },
   "outputs": [],
   "source": [
    "date = d.now()\n",
    "observations['DATE']=pd.to_datetime(Dates).dt.date"
   ]
  },
  {
   "cell_type": "code",
   "execution_count": 12,
   "metadata": {},
   "outputs": [
    {
     "data": {
      "text/plain": [
       "2907"
      ]
     },
     "execution_count": 12,
     "metadata": {},
     "output_type": "execute_result"
    }
   ],
   "source": [
    "len(observations['VALUE'].unique())"
   ]
  },
  {
   "cell_type": "code",
   "execution_count": 13,
   "metadata": {},
   "outputs": [
    {
     "data": {
      "text/html": [
       "<div>\n",
       "<style scoped>\n",
       "    .dataframe tbody tr th:only-of-type {\n",
       "        vertical-align: middle;\n",
       "    }\n",
       "\n",
       "    .dataframe tbody tr th {\n",
       "        vertical-align: top;\n",
       "    }\n",
       "\n",
       "    .dataframe thead th {\n",
       "        text-align: right;\n",
       "    }\n",
       "</style>\n",
       "<table border=\"1\" class=\"dataframe\">\n",
       "  <thead>\n",
       "    <tr style=\"text-align: right;\">\n",
       "      <th></th>\n",
       "      <th>DATE</th>\n",
       "      <th>PATIENT</th>\n",
       "      <th>ENCOUNTER</th>\n",
       "      <th>CODE</th>\n",
       "      <th>DESCRIPTION</th>\n",
       "      <th>VALUE</th>\n",
       "      <th>UNITS</th>\n",
       "      <th>TYPE</th>\n",
       "    </tr>\n",
       "  </thead>\n",
       "  <tbody>\n",
       "    <tr>\n",
       "      <th>0</th>\n",
       "      <td>1980-11-19</td>\n",
       "      <td>b0eb64e9-3411-b431-e0c6-5c08cfbf12d1</td>\n",
       "      <td>66daff73-e9ff-b256-36bc-e07c1c0c2b17</td>\n",
       "      <td>8302-2</td>\n",
       "      <td>Body Height</td>\n",
       "      <td>52.2</td>\n",
       "      <td>cm</td>\n",
       "      <td>numeric</td>\n",
       "    </tr>\n",
       "    <tr>\n",
       "      <th>1</th>\n",
       "      <td>1980-11-19</td>\n",
       "      <td>b0eb64e9-3411-b431-e0c6-5c08cfbf12d1</td>\n",
       "      <td>66daff73-e9ff-b256-36bc-e07c1c0c2b17</td>\n",
       "      <td>72514-3</td>\n",
       "      <td>Pain severity - 0-10 verbal numeric rating [Sc...</td>\n",
       "      <td>2.0</td>\n",
       "      <td>{score}</td>\n",
       "      <td>numeric</td>\n",
       "    </tr>\n",
       "    <tr>\n",
       "      <th>2</th>\n",
       "      <td>1980-11-19</td>\n",
       "      <td>b0eb64e9-3411-b431-e0c6-5c08cfbf12d1</td>\n",
       "      <td>66daff73-e9ff-b256-36bc-e07c1c0c2b17</td>\n",
       "      <td>29463-7</td>\n",
       "      <td>Body Weight</td>\n",
       "      <td>3.9</td>\n",
       "      <td>kg</td>\n",
       "      <td>numeric</td>\n",
       "    </tr>\n",
       "    <tr>\n",
       "      <th>3</th>\n",
       "      <td>1980-11-19</td>\n",
       "      <td>b0eb64e9-3411-b431-e0c6-5c08cfbf12d1</td>\n",
       "      <td>66daff73-e9ff-b256-36bc-e07c1c0c2b17</td>\n",
       "      <td>77606-2</td>\n",
       "      <td>Weight-for-length Per age and sex</td>\n",
       "      <td>43.6</td>\n",
       "      <td>%</td>\n",
       "      <td>numeric</td>\n",
       "    </tr>\n",
       "    <tr>\n",
       "      <th>4</th>\n",
       "      <td>1980-11-19</td>\n",
       "      <td>b0eb64e9-3411-b431-e0c6-5c08cfbf12d1</td>\n",
       "      <td>66daff73-e9ff-b256-36bc-e07c1c0c2b17</td>\n",
       "      <td>9843-4</td>\n",
       "      <td>Head Occipital-frontal circumference</td>\n",
       "      <td>35.4</td>\n",
       "      <td>cm</td>\n",
       "      <td>numeric</td>\n",
       "    </tr>\n",
       "    <tr>\n",
       "      <th>...</th>\n",
       "      <td>...</td>\n",
       "      <td>...</td>\n",
       "      <td>...</td>\n",
       "      <td>...</td>\n",
       "      <td>...</td>\n",
       "      <td>...</td>\n",
       "      <td>...</td>\n",
       "      <td>...</td>\n",
       "    </tr>\n",
       "    <tr>\n",
       "      <th>47002</th>\n",
       "      <td>2016-10-22</td>\n",
       "      <td>6648fb98-2654-78d9-6857-f834d31592da</td>\n",
       "      <td>NaN</td>\n",
       "      <td>QOLS</td>\n",
       "      <td>QOLS</td>\n",
       "      <td>0.9</td>\n",
       "      <td>{score}</td>\n",
       "      <td>numeric</td>\n",
       "    </tr>\n",
       "    <tr>\n",
       "      <th>47003</th>\n",
       "      <td>2017-10-22</td>\n",
       "      <td>6648fb98-2654-78d9-6857-f834d31592da</td>\n",
       "      <td>NaN</td>\n",
       "      <td>QOLS</td>\n",
       "      <td>QOLS</td>\n",
       "      <td>0.9</td>\n",
       "      <td>{score}</td>\n",
       "      <td>numeric</td>\n",
       "    </tr>\n",
       "    <tr>\n",
       "      <th>47004</th>\n",
       "      <td>2018-10-22</td>\n",
       "      <td>6648fb98-2654-78d9-6857-f834d31592da</td>\n",
       "      <td>NaN</td>\n",
       "      <td>QOLS</td>\n",
       "      <td>QOLS</td>\n",
       "      <td>1.0</td>\n",
       "      <td>{score}</td>\n",
       "      <td>numeric</td>\n",
       "    </tr>\n",
       "    <tr>\n",
       "      <th>47005</th>\n",
       "      <td>2019-10-22</td>\n",
       "      <td>6648fb98-2654-78d9-6857-f834d31592da</td>\n",
       "      <td>NaN</td>\n",
       "      <td>QOLS</td>\n",
       "      <td>QOLS</td>\n",
       "      <td>1.0</td>\n",
       "      <td>{score}</td>\n",
       "      <td>numeric</td>\n",
       "    </tr>\n",
       "    <tr>\n",
       "      <th>47006</th>\n",
       "      <td>2020-10-22</td>\n",
       "      <td>6648fb98-2654-78d9-6857-f834d31592da</td>\n",
       "      <td>NaN</td>\n",
       "      <td>QOLS</td>\n",
       "      <td>QOLS</td>\n",
       "      <td>1.0</td>\n",
       "      <td>{score}</td>\n",
       "      <td>numeric</td>\n",
       "    </tr>\n",
       "  </tbody>\n",
       "</table>\n",
       "<p>47007 rows × 8 columns</p>\n",
       "</div>"
      ],
      "text/plain": [
       "             DATE                               PATIENT  \\\n",
       "0      1980-11-19  b0eb64e9-3411-b431-e0c6-5c08cfbf12d1   \n",
       "1      1980-11-19  b0eb64e9-3411-b431-e0c6-5c08cfbf12d1   \n",
       "2      1980-11-19  b0eb64e9-3411-b431-e0c6-5c08cfbf12d1   \n",
       "3      1980-11-19  b0eb64e9-3411-b431-e0c6-5c08cfbf12d1   \n",
       "4      1980-11-19  b0eb64e9-3411-b431-e0c6-5c08cfbf12d1   \n",
       "...           ...                                   ...   \n",
       "47002  2016-10-22  6648fb98-2654-78d9-6857-f834d31592da   \n",
       "47003  2017-10-22  6648fb98-2654-78d9-6857-f834d31592da   \n",
       "47004  2018-10-22  6648fb98-2654-78d9-6857-f834d31592da   \n",
       "47005  2019-10-22  6648fb98-2654-78d9-6857-f834d31592da   \n",
       "47006  2020-10-22  6648fb98-2654-78d9-6857-f834d31592da   \n",
       "\n",
       "                                  ENCOUNTER     CODE  \\\n",
       "0      66daff73-e9ff-b256-36bc-e07c1c0c2b17   8302-2   \n",
       "1      66daff73-e9ff-b256-36bc-e07c1c0c2b17  72514-3   \n",
       "2      66daff73-e9ff-b256-36bc-e07c1c0c2b17  29463-7   \n",
       "3      66daff73-e9ff-b256-36bc-e07c1c0c2b17  77606-2   \n",
       "4      66daff73-e9ff-b256-36bc-e07c1c0c2b17   9843-4   \n",
       "...                                     ...      ...   \n",
       "47002                                   NaN     QOLS   \n",
       "47003                                   NaN     QOLS   \n",
       "47004                                   NaN     QOLS   \n",
       "47005                                   NaN     QOLS   \n",
       "47006                                   NaN     QOLS   \n",
       "\n",
       "                                             DESCRIPTION VALUE    UNITS  \\\n",
       "0                                            Body Height  52.2       cm   \n",
       "1      Pain severity - 0-10 verbal numeric rating [Sc...   2.0  {score}   \n",
       "2                                            Body Weight   3.9       kg   \n",
       "3                      Weight-for-length Per age and sex  43.6        %   \n",
       "4                   Head Occipital-frontal circumference  35.4       cm   \n",
       "...                                                  ...   ...      ...   \n",
       "47002                                               QOLS   0.9  {score}   \n",
       "47003                                               QOLS   0.9  {score}   \n",
       "47004                                               QOLS   1.0  {score}   \n",
       "47005                                               QOLS   1.0  {score}   \n",
       "47006                                               QOLS   1.0  {score}   \n",
       "\n",
       "          TYPE  \n",
       "0      numeric  \n",
       "1      numeric  \n",
       "2      numeric  \n",
       "3      numeric  \n",
       "4      numeric  \n",
       "...        ...  \n",
       "47002  numeric  \n",
       "47003  numeric  \n",
       "47004  numeric  \n",
       "47005  numeric  \n",
       "47006  numeric  \n",
       "\n",
       "[47007 rows x 8 columns]"
      ]
     },
     "execution_count": 13,
     "metadata": {},
     "output_type": "execute_result"
    }
   ],
   "source": [
    "observations"
   ]
  },
  {
   "cell_type": "code",
   "execution_count": 14,
   "metadata": {},
   "outputs": [
    {
     "data": {
      "text/html": [
       "<div>\n",
       "<style scoped>\n",
       "    .dataframe tbody tr th:only-of-type {\n",
       "        vertical-align: middle;\n",
       "    }\n",
       "\n",
       "    .dataframe tbody tr th {\n",
       "        vertical-align: top;\n",
       "    }\n",
       "\n",
       "    .dataframe thead th {\n",
       "        text-align: right;\n",
       "    }\n",
       "</style>\n",
       "<table border=\"1\" class=\"dataframe\">\n",
       "  <thead>\n",
       "    <tr style=\"text-align: right;\">\n",
       "      <th></th>\n",
       "      <th>START</th>\n",
       "      <th>STOP</th>\n",
       "      <th>PATIENT</th>\n",
       "      <th>ENCOUNTER</th>\n",
       "      <th>CODE</th>\n",
       "      <th>DESCRIPTION</th>\n",
       "    </tr>\n",
       "  </thead>\n",
       "  <tbody>\n",
       "    <tr>\n",
       "      <th>0</th>\n",
       "      <td>1998-03-26</td>\n",
       "      <td>NaN</td>\n",
       "      <td>e3112f68-6ba0-c2de-a8bb-308d1922fbf4</td>\n",
       "      <td>9191d8ea-67f0-2efa-0615-21a3454c4f37</td>\n",
       "      <td>15777000</td>\n",
       "      <td>Prediabetes</td>\n",
       "    </tr>\n",
       "    <tr>\n",
       "      <th>1</th>\n",
       "      <td>1991-03-17</td>\n",
       "      <td>1991-03-27</td>\n",
       "      <td>efbcd7f4-4f52-ca46-d252-00a2b94f00e8</td>\n",
       "      <td>805fc3fd-66b5-aedc-7255-840cf54a039a</td>\n",
       "      <td>195662009</td>\n",
       "      <td>Acute viral pharyngitis (disorder)</td>\n",
       "    </tr>\n",
       "    <tr>\n",
       "      <th>2</th>\n",
       "      <td>1994-06-10</td>\n",
       "      <td>NaN</td>\n",
       "      <td>90a9da53-9348-e91f-a9ad-de714b06a185</td>\n",
       "      <td>72b7539a-13ec-c4a2-4792-36458d6e1bdc</td>\n",
       "      <td>15777000</td>\n",
       "      <td>Prediabetes</td>\n",
       "    </tr>\n",
       "    <tr>\n",
       "      <th>3</th>\n",
       "      <td>1995-04-08</td>\n",
       "      <td>1995-04-21</td>\n",
       "      <td>efbcd7f4-4f52-ca46-d252-00a2b94f00e8</td>\n",
       "      <td>91e7e7b4-f0b7-df85-a5a9-fcb9ea79324b</td>\n",
       "      <td>195662009</td>\n",
       "      <td>Acute viral pharyngitis (disorder)</td>\n",
       "    </tr>\n",
       "    <tr>\n",
       "      <th>4</th>\n",
       "      <td>2001-03-29</td>\n",
       "      <td>NaN</td>\n",
       "      <td>e3112f68-6ba0-c2de-a8bb-308d1922fbf4</td>\n",
       "      <td>4735a497-9bc6-cfbc-da6d-1f894caa9b92</td>\n",
       "      <td>271737000</td>\n",
       "      <td>Anemia (disorder)</td>\n",
       "    </tr>\n",
       "  </tbody>\n",
       "</table>\n",
       "</div>"
      ],
      "text/plain": [
       "        START        STOP                               PATIENT  \\\n",
       "0  1998-03-26         NaN  e3112f68-6ba0-c2de-a8bb-308d1922fbf4   \n",
       "1  1991-03-17  1991-03-27  efbcd7f4-4f52-ca46-d252-00a2b94f00e8   \n",
       "2  1994-06-10         NaN  90a9da53-9348-e91f-a9ad-de714b06a185   \n",
       "3  1995-04-08  1995-04-21  efbcd7f4-4f52-ca46-d252-00a2b94f00e8   \n",
       "4  2001-03-29         NaN  e3112f68-6ba0-c2de-a8bb-308d1922fbf4   \n",
       "\n",
       "                              ENCOUNTER       CODE  \\\n",
       "0  9191d8ea-67f0-2efa-0615-21a3454c4f37   15777000   \n",
       "1  805fc3fd-66b5-aedc-7255-840cf54a039a  195662009   \n",
       "2  72b7539a-13ec-c4a2-4792-36458d6e1bdc   15777000   \n",
       "3  91e7e7b4-f0b7-df85-a5a9-fcb9ea79324b  195662009   \n",
       "4  4735a497-9bc6-cfbc-da6d-1f894caa9b92  271737000   \n",
       "\n",
       "                          DESCRIPTION  \n",
       "0                         Prediabetes  \n",
       "1  Acute viral pharyngitis (disorder)  \n",
       "2                         Prediabetes  \n",
       "3  Acute viral pharyngitis (disorder)  \n",
       "4                   Anemia (disorder)  "
      ]
     },
     "execution_count": 14,
     "metadata": {},
     "output_type": "execute_result"
    }
   ],
   "source": [
    "conditions.head()"
   ]
  },
  {
   "cell_type": "code",
   "execution_count": 15,
   "metadata": {},
   "outputs": [
    {
     "data": {
      "text/plain": [
       "1497"
      ]
     },
     "execution_count": 15,
     "metadata": {},
     "output_type": "execute_result"
    }
   ],
   "source": [
    "len(conditions)"
   ]
  },
  {
   "cell_type": "code",
   "execution_count": 48,
   "metadata": {},
   "outputs": [],
   "source": [
    "medications['START']=pd.to_datetime(Dates).dt.date\n",
    "medications['STOP']=pd.to_datetime(Dates).dt.date\n",
    "totalcost=medications['TOTALCOST']\n",
    "medication_dates=medications['START']"
   ]
  },
  {
   "cell_type": "code",
   "execution_count": null,
   "metadata": {},
   "outputs": [],
   "source": [
    "\n"
   ]
  },
  {
   "cell_type": "code",
   "execution_count": 50,
   "metadata": {},
   "outputs": [
    {
     "data": {
      "text/html": [
       "<div>\n",
       "<style scoped>\n",
       "    .dataframe tbody tr th:only-of-type {\n",
       "        vertical-align: middle;\n",
       "    }\n",
       "\n",
       "    .dataframe tbody tr th {\n",
       "        vertical-align: top;\n",
       "    }\n",
       "\n",
       "    .dataframe thead th {\n",
       "        text-align: right;\n",
       "    }\n",
       "</style>\n",
       "<table border=\"1\" class=\"dataframe\">\n",
       "  <thead>\n",
       "    <tr style=\"text-align: right;\">\n",
       "      <th></th>\n",
       "      <th>START</th>\n",
       "      <th>STOP</th>\n",
       "      <th>PATIENT</th>\n",
       "      <th>PAYER</th>\n",
       "      <th>ENCOUNTER</th>\n",
       "      <th>CODE</th>\n",
       "      <th>DESCRIPTION</th>\n",
       "      <th>BASE_COST</th>\n",
       "      <th>PAYER_COVERAGE</th>\n",
       "      <th>DISPENSES</th>\n",
       "      <th>TOTALCOST</th>\n",
       "      <th>REASONCODE</th>\n",
       "      <th>REASONDESCRIPTION</th>\n",
       "      <th>STOPT</th>\n",
       "    </tr>\n",
       "  </thead>\n",
       "  <tbody>\n",
       "    <tr>\n",
       "      <th>0</th>\n",
       "      <td>1980-11-19</td>\n",
       "      <td>1980-11-19</td>\n",
       "      <td>d8bde556-778b-b02e-fc48-b338a1d6926a</td>\n",
       "      <td>d47b3510-2895-3b70-9897-342d681c769d</td>\n",
       "      <td>bcd6b78b-68c0-6172-3993-43303e5fc830</td>\n",
       "      <td>895994</td>\n",
       "      <td>120 ACTUAT Fluticasone propionate 0.044 MG/ACT...</td>\n",
       "      <td>37.07</td>\n",
       "      <td>0.0</td>\n",
       "      <td>5</td>\n",
       "      <td>185.35</td>\n",
       "      <td>233678006.0</td>\n",
       "      <td>Childhood asthma</td>\n",
       "      <td>1980-11-19</td>\n",
       "    </tr>\n",
       "    <tr>\n",
       "      <th>1</th>\n",
       "      <td>1980-11-19</td>\n",
       "      <td>1980-11-19</td>\n",
       "      <td>d8bde556-778b-b02e-fc48-b338a1d6926a</td>\n",
       "      <td>d47b3510-2895-3b70-9897-342d681c769d</td>\n",
       "      <td>bcd6b78b-68c0-6172-3993-43303e5fc830</td>\n",
       "      <td>2123111</td>\n",
       "      <td>NDA020503 200 ACTUAT Albuterol 0.09 MG/ACTUAT ...</td>\n",
       "      <td>243.55</td>\n",
       "      <td>0.0</td>\n",
       "      <td>5</td>\n",
       "      <td>1217.75</td>\n",
       "      <td>233678006.0</td>\n",
       "      <td>Childhood asthma</td>\n",
       "      <td>1980-11-19</td>\n",
       "    </tr>\n",
       "    <tr>\n",
       "      <th>2</th>\n",
       "      <td>1980-11-19</td>\n",
       "      <td>1980-11-19</td>\n",
       "      <td>d8bde556-778b-b02e-fc48-b338a1d6926a</td>\n",
       "      <td>d47b3510-2895-3b70-9897-342d681c769d</td>\n",
       "      <td>be55c41a-2d25-7fe0-4010-a78d2601a8bb</td>\n",
       "      <td>895994</td>\n",
       "      <td>120 ACTUAT Fluticasone propionate 0.044 MG/ACT...</td>\n",
       "      <td>22.05</td>\n",
       "      <td>0.0</td>\n",
       "      <td>6</td>\n",
       "      <td>132.30</td>\n",
       "      <td>233678006.0</td>\n",
       "      <td>Childhood asthma</td>\n",
       "      <td>1980-11-19</td>\n",
       "    </tr>\n",
       "    <tr>\n",
       "      <th>3</th>\n",
       "      <td>1980-11-19</td>\n",
       "      <td>1980-11-19</td>\n",
       "      <td>d8bde556-778b-b02e-fc48-b338a1d6926a</td>\n",
       "      <td>d47b3510-2895-3b70-9897-342d681c769d</td>\n",
       "      <td>be55c41a-2d25-7fe0-4010-a78d2601a8bb</td>\n",
       "      <td>2123111</td>\n",
       "      <td>NDA020503 200 ACTUAT Albuterol 0.09 MG/ACTUAT ...</td>\n",
       "      <td>128.35</td>\n",
       "      <td>0.0</td>\n",
       "      <td>6</td>\n",
       "      <td>770.10</td>\n",
       "      <td>233678006.0</td>\n",
       "      <td>Childhood asthma</td>\n",
       "      <td>1980-11-19</td>\n",
       "    </tr>\n",
       "    <tr>\n",
       "      <th>4</th>\n",
       "      <td>1980-11-19</td>\n",
       "      <td>1980-11-19</td>\n",
       "      <td>d8bde556-778b-b02e-fc48-b338a1d6926a</td>\n",
       "      <td>d47b3510-2895-3b70-9897-342d681c769d</td>\n",
       "      <td>d8ee3d36-de89-a4fe-6a07-c2858fad7e85</td>\n",
       "      <td>895994</td>\n",
       "      <td>120 ACTUAT Fluticasone propionate 0.044 MG/ACT...</td>\n",
       "      <td>27.59</td>\n",
       "      <td>0.0</td>\n",
       "      <td>12</td>\n",
       "      <td>331.08</td>\n",
       "      <td>233678006.0</td>\n",
       "      <td>Childhood asthma</td>\n",
       "      <td>1980-11-19</td>\n",
       "    </tr>\n",
       "  </tbody>\n",
       "</table>\n",
       "</div>"
      ],
      "text/plain": [
       "        START        STOP                               PATIENT  \\\n",
       "0  1980-11-19  1980-11-19  d8bde556-778b-b02e-fc48-b338a1d6926a   \n",
       "1  1980-11-19  1980-11-19  d8bde556-778b-b02e-fc48-b338a1d6926a   \n",
       "2  1980-11-19  1980-11-19  d8bde556-778b-b02e-fc48-b338a1d6926a   \n",
       "3  1980-11-19  1980-11-19  d8bde556-778b-b02e-fc48-b338a1d6926a   \n",
       "4  1980-11-19  1980-11-19  d8bde556-778b-b02e-fc48-b338a1d6926a   \n",
       "\n",
       "                                  PAYER                             ENCOUNTER  \\\n",
       "0  d47b3510-2895-3b70-9897-342d681c769d  bcd6b78b-68c0-6172-3993-43303e5fc830   \n",
       "1  d47b3510-2895-3b70-9897-342d681c769d  bcd6b78b-68c0-6172-3993-43303e5fc830   \n",
       "2  d47b3510-2895-3b70-9897-342d681c769d  be55c41a-2d25-7fe0-4010-a78d2601a8bb   \n",
       "3  d47b3510-2895-3b70-9897-342d681c769d  be55c41a-2d25-7fe0-4010-a78d2601a8bb   \n",
       "4  d47b3510-2895-3b70-9897-342d681c769d  d8ee3d36-de89-a4fe-6a07-c2858fad7e85   \n",
       "\n",
       "      CODE                                        DESCRIPTION  BASE_COST  \\\n",
       "0   895994  120 ACTUAT Fluticasone propionate 0.044 MG/ACT...      37.07   \n",
       "1  2123111  NDA020503 200 ACTUAT Albuterol 0.09 MG/ACTUAT ...     243.55   \n",
       "2   895994  120 ACTUAT Fluticasone propionate 0.044 MG/ACT...      22.05   \n",
       "3  2123111  NDA020503 200 ACTUAT Albuterol 0.09 MG/ACTUAT ...     128.35   \n",
       "4   895994  120 ACTUAT Fluticasone propionate 0.044 MG/ACT...      27.59   \n",
       "\n",
       "   PAYER_COVERAGE  DISPENSES  TOTALCOST   REASONCODE REASONDESCRIPTION  \\\n",
       "0             0.0          5     185.35  233678006.0  Childhood asthma   \n",
       "1             0.0          5    1217.75  233678006.0  Childhood asthma   \n",
       "2             0.0          6     132.30  233678006.0  Childhood asthma   \n",
       "3             0.0          6     770.10  233678006.0  Childhood asthma   \n",
       "4             0.0         12     331.08  233678006.0  Childhood asthma   \n",
       "\n",
       "        STOPT  \n",
       "0  1980-11-19  \n",
       "1  1980-11-19  \n",
       "2  1980-11-19  \n",
       "3  1980-11-19  \n",
       "4  1980-11-19  "
      ]
     },
     "execution_count": 50,
     "metadata": {},
     "output_type": "execute_result"
    }
   ],
   "source": [
    "medications.head()"
   ]
  },
  {
   "cell_type": "code",
   "execution_count": 51,
   "metadata": {},
   "outputs": [
    {
     "data": {
      "text/plain": [
       "480"
      ]
     },
     "execution_count": 51,
     "metadata": {},
     "output_type": "execute_result"
    }
   ],
   "source": [
    "len(medication_dates.unique())"
   ]
  },
  {
   "cell_type": "code",
   "execution_count": 46,
   "metadata": {},
   "outputs": [],
   "source": [
    "medications_new=medications[['STOP','TOTALCOST']]"
   ]
  },
  {
   "cell_type": "code",
   "execution_count": 55,
   "metadata": {},
   "outputs": [],
   "source": [
    "medicaations_Stop=medications[['STOP','TOTALCOST']]"
   ]
  },
  {
   "cell_type": "code",
   "execution_count": 92,
   "metadata": {},
   "outputs": [
    {
     "data": {
      "text/plain": [
       "array([datetime.date(1980, 11, 19), datetime.date(1980, 11, 19),\n",
       "       datetime.date(1980, 11, 19), ..., datetime.date(2004, 3, 26),\n",
       "       datetime.date(2004, 3, 26), datetime.date(2004, 3, 26)],\n",
       "      dtype=object)"
      ]
     },
     "execution_count": 92,
     "metadata": {},
     "output_type": "execute_result"
    }
   ],
   "source": [
    "medications['STOP']"
   ]
  },
  {
   "cell_type": "code",
   "execution_count": 56,
   "metadata": {},
   "outputs": [
    {
     "data": {
      "text/html": [
       "<div>\n",
       "<style scoped>\n",
       "    .dataframe tbody tr th:only-of-type {\n",
       "        vertical-align: middle;\n",
       "    }\n",
       "\n",
       "    .dataframe tbody tr th {\n",
       "        vertical-align: top;\n",
       "    }\n",
       "\n",
       "    .dataframe thead th {\n",
       "        text-align: right;\n",
       "    }\n",
       "</style>\n",
       "<table border=\"1\" class=\"dataframe\">\n",
       "  <thead>\n",
       "    <tr style=\"text-align: right;\">\n",
       "      <th></th>\n",
       "      <th>STOP</th>\n",
       "      <th>TOTALCOST</th>\n",
       "    </tr>\n",
       "  </thead>\n",
       "  <tbody>\n",
       "    <tr>\n",
       "      <th>0</th>\n",
       "      <td>1980-11-19</td>\n",
       "      <td>185.35</td>\n",
       "    </tr>\n",
       "    <tr>\n",
       "      <th>1</th>\n",
       "      <td>1980-11-19</td>\n",
       "      <td>1217.75</td>\n",
       "    </tr>\n",
       "    <tr>\n",
       "      <th>2</th>\n",
       "      <td>1980-11-19</td>\n",
       "      <td>132.30</td>\n",
       "    </tr>\n",
       "    <tr>\n",
       "      <th>3</th>\n",
       "      <td>1980-11-19</td>\n",
       "      <td>770.10</td>\n",
       "    </tr>\n",
       "    <tr>\n",
       "      <th>4</th>\n",
       "      <td>1980-11-19</td>\n",
       "      <td>331.08</td>\n",
       "    </tr>\n",
       "    <tr>\n",
       "      <th>...</th>\n",
       "      <td>...</td>\n",
       "      <td>...</td>\n",
       "    </tr>\n",
       "    <tr>\n",
       "      <th>5462</th>\n",
       "      <td>2004-03-26</td>\n",
       "      <td>82999.35</td>\n",
       "    </tr>\n",
       "    <tr>\n",
       "      <th>5463</th>\n",
       "      <td>2004-03-26</td>\n",
       "      <td>176.00</td>\n",
       "    </tr>\n",
       "    <tr>\n",
       "      <th>5464</th>\n",
       "      <td>2004-03-26</td>\n",
       "      <td>2371.41</td>\n",
       "    </tr>\n",
       "    <tr>\n",
       "      <th>5465</th>\n",
       "      <td>2004-03-26</td>\n",
       "      <td>2371.41</td>\n",
       "    </tr>\n",
       "    <tr>\n",
       "      <th>5466</th>\n",
       "      <td>2004-03-26</td>\n",
       "      <td>526.98</td>\n",
       "    </tr>\n",
       "  </tbody>\n",
       "</table>\n",
       "<p>5467 rows × 2 columns</p>\n",
       "</div>"
      ],
      "text/plain": [
       "            STOP  TOTALCOST\n",
       "0     1980-11-19     185.35\n",
       "1     1980-11-19    1217.75\n",
       "2     1980-11-19     132.30\n",
       "3     1980-11-19     770.10\n",
       "4     1980-11-19     331.08\n",
       "...          ...        ...\n",
       "5462  2004-03-26   82999.35\n",
       "5463  2004-03-26     176.00\n",
       "5464  2004-03-26    2371.41\n",
       "5465  2004-03-26    2371.41\n",
       "5466  2004-03-26     526.98\n",
       "\n",
       "[5467 rows x 2 columns]"
      ]
     },
     "execution_count": 56,
     "metadata": {},
     "output_type": "execute_result"
    }
   ],
   "source": [
    "medicaations_Stop"
   ]
  },
  {
   "cell_type": "code",
   "execution_count": 58,
   "metadata": {},
   "outputs": [
    {
     "data": {
      "text/plain": [
       "480"
      ]
     },
     "execution_count": 58,
     "metadata": {},
     "output_type": "execute_result"
    }
   ],
   "source": [
    "len(medicaations_Stop['STOP'].unique())"
   ]
  },
  {
   "cell_type": "code",
   "execution_count": 84,
   "metadata": {},
   "outputs": [],
   "source": [
    "medstop=medicaations_Stop.groupby(medicaations_Stop['STOP']).agg(['sum','mean','max'])"
   ]
  },
  {
   "cell_type": "code",
   "execution_count": 85,
   "metadata": {},
   "outputs": [
    {
     "data": {
      "text/plain": [
       "MultiIndex([('TOTALCOST',  'sum'),\n",
       "            ('TOTALCOST', 'mean'),\n",
       "            ('TOTALCOST',  'max')],\n",
       "           )"
      ]
     },
     "execution_count": 85,
     "metadata": {},
     "output_type": "execute_result"
    }
   ],
   "source": [
    "medstop.columns"
   ]
  },
  {
   "cell_type": "code",
   "execution_count": 90,
   "metadata": {},
   "outputs": [
    {
     "data": {
      "text/plain": [
       "STOP\n",
       "1980-11-19     130292.01\n",
       "1980-12-24      80784.42\n",
       "1981-02-25      44856.24\n",
       "1981-04-29      18613.99\n",
       "1981-07-29      43095.48\n",
       "                 ...    \n",
       "2020-11-23     599176.26\n",
       "2020-11-25    1009166.70\n",
       "2020-12-02     198671.46\n",
       "2020-12-13        369.70\n",
       "2020-12-17       3161.88\n",
       "Name: (TOTALCOST, sum), Length: 480, dtype: float64"
      ]
     },
     "execution_count": 90,
     "metadata": {},
     "output_type": "execute_result"
    }
   ],
   "source": [
    "medstop[('TOTALCOST','sum')]"
   ]
  },
  {
   "cell_type": "markdown",
   "metadata": {},
   "source": [
    "medstop"
   ]
  },
  {
   "cell_type": "code",
   "execution_count": 105,
   "metadata": {},
   "outputs": [],
   "source": [
    "medstopdf=pd.DataFrame(data={\n",
    "    'End_Dates':medications['STOP'].unique(),\n",
    "    'Cost_Sum':medstop[('TOTALCOST','sum')].values,\n",
    "    'Cost_Mean':medstop[('TOTALCOST','mean')].values,\n",
    "    'Cost_Max':medstop[('TOTALCOST','max')].values\n",
    "                            })"
   ]
  },
  {
   "cell_type": "code",
   "execution_count": 117,
   "metadata": {},
   "outputs": [
    {
     "data": {
      "image/png": "[encoded data removed]",
      "text/plain": [
       "<matplotlib.figure.Figure at 0x1b85bd0e208>"
      ]
     },
     "metadata": {},
     "output_type": "display_data"
    }
   ],
   "source": [
    "plt.plot(medstopdf['End_Dates'])\n",
    "plt.show()"
   ]
  },
  {
   "cell_type": "code",
   "execution_count": 121,
   "metadata": {},
   "outputs": [
    {
     "data": {
      "text/plain": [
       "array([datetime.date(1980, 11, 19), datetime.date(1980, 12, 24),\n",
       "       datetime.date(1981, 2, 25), datetime.date(1981, 4, 29),\n",
       "       datetime.date(1981, 7, 29), datetime.date(1981, 10, 28),\n",
       "       datetime.date(1982, 1, 27), datetime.date(1982, 4, 28),\n",
       "       datetime.date(1982, 10, 27), datetime.date(1983, 4, 27),\n",
       "       datetime.date(1983, 10, 26), datetime.date(1984, 2, 1),\n",
       "       datetime.date(2013, 1, 14), datetime.date(2013, 7, 5),\n",
       "       datetime.date(2012, 3, 22), datetime.date(2013, 4, 1),\n",
       "       datetime.date(2013, 9, 3), datetime.date(2016, 4, 4),\n",
       "       datetime.date(2019, 4, 8), datetime.date(2011, 1, 12),\n",
       "       datetime.date(2020, 3, 10), datetime.date(2012, 8, 22),\n",
       "       datetime.date(2013, 1, 5), datetime.date(2013, 7, 13),\n",
       "       datetime.date(2015, 3, 26), datetime.date(2018, 3, 29),\n",
       "       datetime.date(2020, 3, 5), datetime.date(2016, 4, 15),\n",
       "       datetime.date(2016, 4, 22), datetime.date(2013, 4, 10),\n",
       "       datetime.date(2020, 12, 17), datetime.date(2014, 4, 3),\n",
       "       datetime.date(2016, 1, 27), datetime.date(2018, 1, 31),\n",
       "       datetime.date(2020, 2, 5), datetime.date(2020, 3, 14),\n",
       "       datetime.date(2010, 1, 18), datetime.date(2011, 1, 18),\n",
       "       datetime.date(2012, 1, 18), datetime.date(2013, 1, 18),\n",
       "       datetime.date(2014, 1, 18), datetime.date(2015, 1, 18),\n",
       "       datetime.date(2016, 1, 18), datetime.date(2017, 1, 18),\n",
       "       datetime.date(2018, 1, 18), datetime.date(2010, 1, 21),\n",
       "       datetime.date(2011, 1, 21), datetime.date(2012, 1, 21),\n",
       "       datetime.date(2013, 1, 21), datetime.date(2014, 1, 21),\n",
       "       datetime.date(2015, 1, 21), datetime.date(2019, 1, 18),\n",
       "       datetime.date(2016, 1, 21), datetime.date(2020, 1, 18),\n",
       "       datetime.date(2017, 1, 21), datetime.date(2018, 1, 21),\n",
       "       datetime.date(2019, 1, 21), datetime.date(2020, 1, 21),\n",
       "       datetime.date(2011, 11, 28), datetime.date(2012, 11, 27),\n",
       "       datetime.date(2013, 1, 23), datetime.date(2013, 11, 27),\n",
       "       datetime.date(2014, 1, 29), datetime.date(2014, 11, 27),\n",
       "       datetime.date(2015, 2, 4), datetime.date(2015, 11, 27),\n",
       "       datetime.date(2016, 2, 10), datetime.date(2016, 11, 26),\n",
       "       datetime.date(2017, 2, 15), datetime.date(2017, 11, 26),\n",
       "       datetime.date(2018, 2, 21), datetime.date(2018, 11, 26),\n",
       "       datetime.date(2019, 2, 27), datetime.date(2019, 11, 26),\n",
       "       datetime.date(2020, 3, 4), datetime.date(2020, 3, 9),\n",
       "       datetime.date(2017, 11, 21), datetime.date(2017, 12, 1),\n",
       "       datetime.date(2018, 4, 27), datetime.date(2020, 3, 8),\n",
       "       datetime.date(2020, 5, 1), datetime.date(2020, 11, 25),\n",
       "       datetime.date(2010, 4, 16), datetime.date(2011, 4, 16),\n",
       "       datetime.date(2012, 4, 16), datetime.date(2013, 4, 16),\n",
       "       datetime.date(2014, 4, 16), datetime.date(2015, 4, 16),\n",
       "       datetime.date(2016, 4, 16), datetime.date(2017, 4, 16),\n",
       "       datetime.date(2018, 4, 16), datetime.date(2019, 4, 16),\n",
       "       datetime.date(2020, 4, 16), datetime.date(2010, 5, 13),\n",
       "       datetime.date(2011, 5, 13), datetime.date(2012, 5, 13),\n",
       "       datetime.date(2013, 5, 13), datetime.date(2014, 5, 13),\n",
       "       datetime.date(2015, 5, 13), datetime.date(2016, 5, 13),\n",
       "       datetime.date(2017, 5, 13), datetime.date(2018, 5, 13),\n",
       "       datetime.date(2019, 5, 13), datetime.date(2020, 5, 13),\n",
       "       datetime.date(2011, 6, 20), datetime.date(2012, 5, 4),\n",
       "       datetime.date(2012, 6, 25), datetime.date(2013, 7, 1),\n",
       "       datetime.date(2014, 7, 7), datetime.date(2015, 7, 13),\n",
       "       datetime.date(2016, 7, 18), datetime.date(2017, 7, 24),\n",
       "       datetime.date(2018, 7, 30), datetime.date(2018, 8, 29),\n",
       "       datetime.date(2018, 10, 28), datetime.date(2018, 12, 27),\n",
       "       datetime.date(2019, 8, 5), datetime.date(2020, 3, 12),\n",
       "       datetime.date(2020, 3, 13), datetime.date(2020, 8, 10),\n",
       "       datetime.date(2010, 6, 5), datetime.date(2011, 6, 5),\n",
       "       datetime.date(2012, 6, 5), datetime.date(2013, 6, 5),\n",
       "       datetime.date(2014, 6, 5), datetime.date(2015, 6, 5),\n",
       "       datetime.date(2016, 6, 5), datetime.date(2017, 6, 5),\n",
       "       datetime.date(2018, 6, 5), datetime.date(2019, 6, 5),\n",
       "       datetime.date(2020, 6, 5), datetime.date(2013, 12, 2),\n",
       "       datetime.date(2014, 1, 6), datetime.date(2014, 3, 10),\n",
       "       datetime.date(2014, 5, 12), datetime.date(2014, 8, 11),\n",
       "       datetime.date(2014, 11, 10), datetime.date(2014, 12, 12),\n",
       "       datetime.date(2015, 2, 9), datetime.date(2015, 5, 11),\n",
       "       datetime.date(2015, 11, 9), datetime.date(2016, 5, 9),\n",
       "       datetime.date(2016, 8, 22), datetime.date(2016, 11, 7),\n",
       "       datetime.date(2017, 5, 8), datetime.date(2017, 11, 6),\n",
       "       datetime.date(2018, 11, 12), datetime.date(2019, 1, 22),\n",
       "       datetime.date(2019, 11, 18), datetime.date(2020, 3, 6),\n",
       "       datetime.date(2020, 3, 7), datetime.date(2020, 3, 11),\n",
       "       datetime.date(2020, 3, 16), datetime.date(2020, 3, 17),\n",
       "       datetime.date(2020, 11, 23), datetime.date(2014, 12, 2),\n",
       "       datetime.date(2015, 12, 2), datetime.date(2016, 12, 2),\n",
       "       datetime.date(2017, 12, 2), datetime.date(2018, 12, 2),\n",
       "       datetime.date(2019, 12, 2), datetime.date(2020, 12, 2),\n",
       "       datetime.date(2011, 1, 2), datetime.date(2011, 6, 29),\n",
       "       datetime.date(2011, 7, 3), datetime.date(2012, 1, 8),\n",
       "       datetime.date(2013, 1, 13), datetime.date(2014, 1, 19),\n",
       "       datetime.date(2015, 1, 25), datetime.date(2016, 1, 31),\n",
       "       datetime.date(2017, 2, 5), datetime.date(2018, 2, 11),\n",
       "       datetime.date(2019, 2, 17), datetime.date(2020, 2, 23),\n",
       "       datetime.date(2020, 2, 27), datetime.date(2010, 1, 16),\n",
       "       datetime.date(2011, 1, 16), datetime.date(2012, 1, 16),\n",
       "       datetime.date(2013, 1, 16), datetime.date(2014, 1, 16),\n",
       "       datetime.date(2015, 1, 16), datetime.date(2016, 1, 16),\n",
       "       datetime.date(2017, 1, 16), datetime.date(2018, 1, 16),\n",
       "       datetime.date(2019, 1, 16), datetime.date(2020, 1, 16),\n",
       "       datetime.date(2011, 8, 19), datetime.date(2012, 3, 2),\n",
       "       datetime.date(2012, 8, 24), datetime.date(2013, 8, 30),\n",
       "       datetime.date(2014, 9, 5), datetime.date(2015, 9, 11),\n",
       "       datetime.date(2016, 9, 16), datetime.date(2017, 9, 22),\n",
       "       datetime.date(2018, 9, 28), datetime.date(2019, 10, 4),\n",
       "       datetime.date(2020, 3, 1), datetime.date(2020, 2, 29),\n",
       "       datetime.date(2020, 10, 9), datetime.date(2010, 4, 12),\n",
       "       datetime.date(2011, 4, 12), datetime.date(2012, 4, 12),\n",
       "       datetime.date(2013, 4, 12), datetime.date(2014, 4, 12),\n",
       "       datetime.date(2015, 4, 12), datetime.date(2016, 4, 12),\n",
       "       datetime.date(2017, 4, 12), datetime.date(2018, 4, 12),\n",
       "       datetime.date(2019, 4, 12), datetime.date(2020, 4, 12),\n",
       "       datetime.date(2011, 3, 23), datetime.date(2012, 3, 28),\n",
       "       datetime.date(2013, 4, 3), datetime.date(2014, 4, 9),\n",
       "       datetime.date(2015, 4, 15), datetime.date(2016, 4, 20),\n",
       "       datetime.date(2017, 4, 26), datetime.date(2018, 5, 2),\n",
       "       datetime.date(2019, 5, 8), datetime.date(2010, 11, 19),\n",
       "       datetime.date(2011, 11, 19), datetime.date(2012, 11, 19),\n",
       "       datetime.date(2013, 11, 19), datetime.date(2014, 11, 19),\n",
       "       datetime.date(2015, 11, 19), datetime.date(2016, 11, 19),\n",
       "       datetime.date(2017, 11, 19), datetime.date(2018, 11, 19),\n",
       "       datetime.date(2019, 11, 19), datetime.date(2020, 11, 19),\n",
       "       datetime.date(2013, 12, 9), datetime.date(2016, 3, 7),\n",
       "       datetime.date(2016, 12, 12), datetime.date(2019, 12, 16),\n",
       "       datetime.date(2010, 10, 3), datetime.date(2011, 10, 3),\n",
       "       datetime.date(2012, 10, 3), datetime.date(2013, 10, 3),\n",
       "       datetime.date(2014, 10, 3), datetime.date(2015, 10, 3),\n",
       "       datetime.date(2016, 10, 3), datetime.date(2017, 10, 3),\n",
       "       datetime.date(2018, 10, 3), datetime.date(2019, 10, 3),\n",
       "       datetime.date(2020, 10, 3), datetime.date(2011, 5, 4),\n",
       "       datetime.date(2011, 11, 23), datetime.date(2012, 3, 14),\n",
       "       datetime.date(2012, 11, 28), datetime.date(2013, 12, 4),\n",
       "       datetime.date(2014, 12, 10), datetime.date(2015, 12, 16),\n",
       "       datetime.date(2016, 12, 21), datetime.date(2017, 12, 27),\n",
       "       datetime.date(2019, 1, 2), datetime.date(2020, 1, 8),\n",
       "       datetime.date(2010, 12, 13), datetime.date(2011, 12, 13),\n",
       "       datetime.date(2012, 12, 13), datetime.date(2013, 12, 13),\n",
       "       datetime.date(2014, 12, 13), datetime.date(2015, 12, 13),\n",
       "       datetime.date(2016, 12, 13), datetime.date(2017, 12, 13),\n",
       "       datetime.date(2018, 12, 13), datetime.date(2019, 12, 13),\n",
       "       datetime.date(2020, 12, 13), datetime.date(2011, 5, 28),\n",
       "       datetime.date(2012, 3, 5), datetime.date(2012, 6, 2),\n",
       "       datetime.date(2013, 6, 8), datetime.date(2014, 2, 5),\n",
       "       datetime.date(2016, 6, 11), datetime.date(2017, 2, 3),\n",
       "       datetime.date(2019, 6, 15), datetime.date(2010, 4, 9),\n",
       "       datetime.date(2011, 4, 9), datetime.date(2012, 4, 9),\n",
       "       datetime.date(2013, 4, 9), datetime.date(2015, 4, 9),\n",
       "       datetime.date(2016, 4, 9), datetime.date(2017, 4, 9),\n",
       "       datetime.date(2018, 4, 9), datetime.date(2019, 4, 9),\n",
       "       datetime.date(2020, 4, 9), datetime.date(2012, 7, 10),\n",
       "       datetime.date(2012, 8, 14), datetime.date(2012, 10, 16),\n",
       "       datetime.date(2012, 12, 18), datetime.date(2013, 3, 19),\n",
       "       datetime.date(2013, 6, 18), datetime.date(2013, 9, 17),\n",
       "       datetime.date(2013, 12, 17), datetime.date(2014, 6, 17),\n",
       "       datetime.date(2014, 12, 16), datetime.date(2015, 6, 16),\n",
       "       datetime.date(2015, 12, 15), datetime.date(2016, 6, 14),\n",
       "       datetime.date(2017, 6, 20), datetime.date(2018, 6, 26),\n",
       "       datetime.date(2019, 7, 2), datetime.date(2020, 7, 7),\n",
       "       datetime.date(2013, 7, 10), datetime.date(2014, 7, 10),\n",
       "       datetime.date(2015, 7, 10), datetime.date(2016, 7, 10),\n",
       "       datetime.date(2017, 7, 10), datetime.date(2018, 7, 10),\n",
       "       datetime.date(2019, 7, 10), datetime.date(2020, 7, 10),\n",
       "       datetime.date(2013, 12, 7), datetime.date(2014, 11, 23),\n",
       "       datetime.date(2016, 7, 16), datetime.date(2016, 12, 10),\n",
       "       datetime.date(2019, 9, 28), datetime.date(2010, 9, 22),\n",
       "       datetime.date(2011, 9, 22), datetime.date(2012, 9, 22),\n",
       "       datetime.date(2013, 9, 22), datetime.date(2014, 9, 22),\n",
       "       datetime.date(2015, 9, 22), datetime.date(2016, 9, 22),\n",
       "       datetime.date(2018, 9, 22), datetime.date(2019, 9, 22),\n",
       "       datetime.date(2020, 9, 22), datetime.date(2011, 7, 20),\n",
       "       datetime.date(2014, 7, 23), datetime.date(2012, 5, 3),\n",
       "       datetime.date(2014, 5, 8), datetime.date(2017, 7, 26),\n",
       "       datetime.date(2016, 5, 12), datetime.date(2020, 7, 29),\n",
       "       datetime.date(2018, 4, 19), datetime.date(2019, 4, 25),\n",
       "       datetime.date(2020, 8, 19), datetime.date(2019, 6, 25),\n",
       "       datetime.date(2010, 5, 20), datetime.date(2011, 5, 20),\n",
       "       datetime.date(2012, 5, 20), datetime.date(2013, 5, 20),\n",
       "       datetime.date(2019, 10, 24), datetime.date(2014, 5, 20),\n",
       "       datetime.date(2015, 5, 20), datetime.date(2016, 5, 20),\n",
       "       datetime.date(2017, 5, 20), datetime.date(2018, 5, 20),\n",
       "       datetime.date(2019, 5, 20), datetime.date(2020, 5, 20),\n",
       "       datetime.date(2020, 4, 30), datetime.date(2010, 4, 18),\n",
       "       datetime.date(2011, 4, 18), datetime.date(2012, 4, 18),\n",
       "       datetime.date(2013, 4, 18), datetime.date(2014, 4, 18),\n",
       "       datetime.date(2015, 4, 18), datetime.date(2016, 4, 18),\n",
       "       datetime.date(2017, 4, 18), datetime.date(2018, 4, 18),\n",
       "       datetime.date(2019, 4, 18), datetime.date(2020, 4, 18),\n",
       "       datetime.date(2011, 5, 7), datetime.date(2011, 6, 23),\n",
       "       datetime.date(2011, 12, 8), datetime.date(2014, 6, 26),\n",
       "       datetime.date(2016, 11, 24), datetime.date(2017, 1, 19),\n",
       "       datetime.date(2017, 6, 29), datetime.date(2020, 2, 20),\n",
       "       datetime.date(2020, 2, 21), datetime.date(2020, 7, 2),\n",
       "       datetime.date(2010, 4, 23), datetime.date(2011, 4, 23),\n",
       "       datetime.date(2012, 4, 23), datetime.date(2013, 4, 23),\n",
       "       datetime.date(2014, 4, 23), datetime.date(2015, 4, 23),\n",
       "       datetime.date(2016, 4, 23), datetime.date(2017, 4, 23),\n",
       "       datetime.date(2018, 4, 23), datetime.date(2019, 4, 23),\n",
       "       datetime.date(2020, 4, 23), datetime.date(1985, 5, 23),\n",
       "       datetime.date(1985, 11, 28), datetime.date(1986, 12, 4),\n",
       "       datetime.date(1987, 12, 10), datetime.date(1988, 12, 15),\n",
       "       datetime.date(1989, 12, 21), datetime.date(1990, 12, 27),\n",
       "       datetime.date(1992, 1, 2), datetime.date(1993, 1, 7),\n",
       "       datetime.date(1994, 1, 13), datetime.date(1995, 1, 19),\n",
       "       datetime.date(1995, 1, 26), datetime.date(2012, 3, 30),\n",
       "       datetime.date(2014, 4, 4), datetime.date(2015, 4, 8),\n",
       "       datetime.date(2016, 3, 11), datetime.date(2017, 3, 17),\n",
       "       datetime.date(2018, 3, 23), datetime.date(2019, 3, 29),\n",
       "       datetime.date(2020, 4, 3), datetime.date(2010, 3, 11),\n",
       "       datetime.date(2011, 3, 11), datetime.date(2012, 3, 11),\n",
       "       datetime.date(2013, 3, 11), datetime.date(2014, 3, 11),\n",
       "       datetime.date(2015, 3, 11), datetime.date(2017, 3, 11),\n",
       "       datetime.date(2018, 3, 11), datetime.date(2019, 3, 11),\n",
       "       datetime.date(2011, 1, 25), datetime.date(2011, 5, 31),\n",
       "       datetime.date(2011, 11, 24), datetime.date(2012, 1, 31),\n",
       "       datetime.date(2012, 6, 29), datetime.date(2013, 2, 5),\n",
       "       datetime.date(2014, 2, 11), datetime.date(2015, 2, 17),\n",
       "       datetime.date(2015, 12, 30), datetime.date(2016, 2, 23),\n",
       "       datetime.date(2017, 2, 28), datetime.date(2018, 3, 6),\n",
       "       datetime.date(2019, 3, 12), datetime.date(2020, 8, 31),\n",
       "       datetime.date(2010, 9, 23), datetime.date(2011, 9, 23),\n",
       "       datetime.date(2012, 9, 23), datetime.date(2013, 9, 23),\n",
       "       datetime.date(2014, 9, 23), datetime.date(2015, 9, 23),\n",
       "       datetime.date(2016, 9, 23), datetime.date(2017, 9, 23),\n",
       "       datetime.date(2018, 9, 23), datetime.date(2019, 9, 23),\n",
       "       datetime.date(2020, 9, 23), datetime.date(2012, 12, 3),\n",
       "       datetime.date(2014, 12, 15), datetime.date(2015, 12, 21),\n",
       "       datetime.date(2016, 12, 26), datetime.date(2018, 1, 1),\n",
       "       datetime.date(2019, 1, 7), datetime.date(2020, 1, 13),\n",
       "       datetime.date(2010, 8, 2), datetime.date(2011, 8, 2),\n",
       "       datetime.date(2012, 8, 2), datetime.date(2013, 8, 2),\n",
       "       datetime.date(2014, 8, 2), datetime.date(2015, 8, 2),\n",
       "       datetime.date(2016, 8, 2), datetime.date(2017, 8, 2),\n",
       "       datetime.date(2018, 8, 2), datetime.date(2019, 8, 2),\n",
       "       datetime.date(2020, 8, 2), datetime.date(1997, 7, 31),\n",
       "       datetime.date(1999, 8, 5), datetime.date(2001, 8, 9),\n",
       "       datetime.date(2002, 7, 29), datetime.date(2002, 8, 6),\n",
       "       datetime.date(2002, 8, 10), datetime.date(2002, 9, 12),\n",
       "       datetime.date(2002, 10, 10), datetime.date(2002, 11, 11),\n",
       "       datetime.date(2002, 12, 15), datetime.date(2003, 1, 16),\n",
       "       datetime.date(2003, 2, 17), datetime.date(2003, 2, 18),\n",
       "       datetime.date(2003, 3, 22), datetime.date(2003, 4, 23),\n",
       "       datetime.date(2003, 5, 25), datetime.date(2003, 6, 23),\n",
       "       datetime.date(2003, 7, 17), datetime.date(2003, 7, 25),\n",
       "       datetime.date(2003, 8, 24), datetime.date(2003, 9, 24),\n",
       "       datetime.date(2003, 10, 25), datetime.date(2003, 11, 22),\n",
       "       datetime.date(2003, 12, 22), datetime.date(2004, 1, 25),\n",
       "       datetime.date(2004, 2, 24), datetime.date(2004, 3, 26)],\n",
       "      dtype=object)"
      ]
     },
     "execution_count": 121,
     "metadata": {},
     "output_type": "execute_result"
    }
   ],
   "source": [
    "medstopdf['End_Dates'].values"
   ]
  },
  {
   "cell_type": "code",
   "execution_count": 135,
   "metadata": {},
   "outputs": [],
   "source": [
    "\n",
    "DFmeds = pd.DataFrame()\n",
    "DFmeds['meanCost'] = medstopdf['Cost_Mean']\n",
    "DFmeds['SumCost'] = medstopdf['Cost_Sum']\n",
    "DFmeds['MaxCost'] = medstopdf['Cost_Max']\n",
    "DFmeds = DFmeds.set_index(medstopdf['End_Dates'].values)\n"
   ]
  },
  {
   "cell_type": "code",
   "execution_count": 152,
   "metadata": {},
   "outputs": [
    {
     "data": {
      "image/png": "[encoded data removed]",
      "text/plain": [
       "<matplotlib.figure.Figure at 0x1b85bf88ef0>"
      ]
     },
     "metadata": {},
     "output_type": "display_data"
    },
    {
     "data": {
      "text/plain": [
       "<matplotlib.figure.Figure at 0x1b85a518898>"
      ]
     },
     "metadata": {},
     "output_type": "display_data"
    },
    {
     "data": {
      "image/png": "[encoded data removed]",
      "text/plain": [
       "<matplotlib.figure.Figure at 0x1b857af5320>"
      ]
     },
     "metadata": {},
     "output_type": "display_data"
    },
    {
     "data": {
      "text/plain": [
       "<matplotlib.figure.Figure at 0x1b85bce3208>"
      ]
     },
     "metadata": {},
     "output_type": "display_data"
    },
    {
     "data": {
      "image/png": "[encoded data removed]",
      "text/plain": [
       "<matplotlib.figure.Figure at 0x1b85bce3d68>"
      ]
     },
     "metadata": {},
     "output_type": "display_data"
    },
    {
     "data": {
      "text/plain": [
       "<matplotlib.figure.Figure at 0x1b85beb8978>"
      ]
     },
     "metadata": {},
     "output_type": "display_data"
    }
   ],
   "source": [
    "from matplotlib.pyplot import figure\n",
    "\n",
    "figure(num=None, figsize=(17,5 ), dpi=80, facecolor='w', edgecolor='k')\n",
    "plt.scatter(medstopdf['End_Dates'],medstopdf['Cost_Sum'])\n",
    "plt.gcf().autofmt_xdate()\n",
    "plt.xlabel('Dates',fontsize=15)\n",
    "plt.ylabel('Cost Sum',fontsize=15)\n",
    "figure(figsize=(10,1))\n",
    "plt.gcf().autofmt_xdate()\n",
    "\n",
    "figure(num=None, figsize=(17,5 ), dpi=80, facecolor='w', edgecolor='k')\n",
    "plt.scatter(medstopdf['End_Dates'],medstopdf['Cost_Max'])\n",
    "plt.gcf().autofmt_xdate()\n",
    "plt.xlabel('Dates',fontsize=15)\n",
    "plt.ylabel('Cost Max',fontsize=15)\n",
    "figure(figsize=(10,1))\n",
    "plt.gcf().autofmt_xdate()\n",
    "\n",
    "\n",
    "figure(num=None, figsize=(17,5 ), dpi=80, facecolor='w', edgecolor='k')\n",
    "plt.scatter(medstopdf['End_Dates'],medstopdf['Cost_Mean'])\n",
    "plt.gcf().autofmt_xdate()\n",
    "plt.xlabel('Dates',fontsize=15)\n",
    "plt.ylabel('Cost Mean',fontsize=15)\n",
    "figure(figsize=(10,1))\n",
    "plt.gcf().autofmt_xdate()\n",
    "\n",
    "plt.show()"
   ]
  },
  {
   "cell_type": "code",
   "execution_count": 155,
   "metadata": {},
   "outputs": [],
   "source": [
    "observationsValues=observations[['DATE','VALUE']]"
   ]
  },
  {
   "cell_type": "code",
   "execution_count": 156,
   "metadata": {},
   "outputs": [
    {
     "data": {
      "text/html": [
       "<div>\n",
       "<style scoped>\n",
       "    .dataframe tbody tr th:only-of-type {\n",
       "        vertical-align: middle;\n",
       "    }\n",
       "\n",
       "    .dataframe tbody tr th {\n",
       "        vertical-align: top;\n",
       "    }\n",
       "\n",
       "    .dataframe thead th {\n",
       "        text-align: right;\n",
       "    }\n",
       "</style>\n",
       "<table border=\"1\" class=\"dataframe\">\n",
       "  <thead>\n",
       "    <tr style=\"text-align: right;\">\n",
       "      <th></th>\n",
       "      <th>DATE</th>\n",
       "      <th>VALUE</th>\n",
       "    </tr>\n",
       "  </thead>\n",
       "  <tbody>\n",
       "    <tr>\n",
       "      <th>0</th>\n",
       "      <td>1980-11-19</td>\n",
       "      <td>52.2</td>\n",
       "    </tr>\n",
       "    <tr>\n",
       "      <th>1</th>\n",
       "      <td>1980-11-19</td>\n",
       "      <td>2.0</td>\n",
       "    </tr>\n",
       "    <tr>\n",
       "      <th>2</th>\n",
       "      <td>1980-11-19</td>\n",
       "      <td>3.9</td>\n",
       "    </tr>\n",
       "    <tr>\n",
       "      <th>3</th>\n",
       "      <td>1980-11-19</td>\n",
       "      <td>43.6</td>\n",
       "    </tr>\n",
       "    <tr>\n",
       "      <th>4</th>\n",
       "      <td>1980-11-19</td>\n",
       "      <td>35.4</td>\n",
       "    </tr>\n",
       "    <tr>\n",
       "      <th>...</th>\n",
       "      <td>...</td>\n",
       "      <td>...</td>\n",
       "    </tr>\n",
       "    <tr>\n",
       "      <th>47002</th>\n",
       "      <td>2016-10-22</td>\n",
       "      <td>0.9</td>\n",
       "    </tr>\n",
       "    <tr>\n",
       "      <th>47003</th>\n",
       "      <td>2017-10-22</td>\n",
       "      <td>0.9</td>\n",
       "    </tr>\n",
       "    <tr>\n",
       "      <th>47004</th>\n",
       "      <td>2018-10-22</td>\n",
       "      <td>1.0</td>\n",
       "    </tr>\n",
       "    <tr>\n",
       "      <th>47005</th>\n",
       "      <td>2019-10-22</td>\n",
       "      <td>1.0</td>\n",
       "    </tr>\n",
       "    <tr>\n",
       "      <th>47006</th>\n",
       "      <td>2020-10-22</td>\n",
       "      <td>1.0</td>\n",
       "    </tr>\n",
       "  </tbody>\n",
       "</table>\n",
       "<p>47007 rows × 2 columns</p>\n",
       "</div>"
      ],
      "text/plain": [
       "             DATE VALUE\n",
       "0      1980-11-19  52.2\n",
       "1      1980-11-19   2.0\n",
       "2      1980-11-19   3.9\n",
       "3      1980-11-19  43.6\n",
       "4      1980-11-19  35.4\n",
       "...           ...   ...\n",
       "47002  2016-10-22   0.9\n",
       "47003  2017-10-22   0.9\n",
       "47004  2018-10-22   1.0\n",
       "47005  2019-10-22   1.0\n",
       "47006  2020-10-22   1.0\n",
       "\n",
       "[47007 rows x 2 columns]"
      ]
     },
     "execution_count": 156,
     "metadata": {},
     "output_type": "execute_result"
    }
   ],
   "source": [
    "observationsValues"
   ]
  },
  {
   "cell_type": "code",
   "execution_count": 158,
   "metadata": {
    "collapsed": true
   },
   "outputs": [],
   "source": [
    "DFobs = pd.DataFrame()\n",
    "DFobs['Value'] = observationsValues['VALUE']\n",
    "DFobs = DFobs.set_index(observationsValues['DATE'].values)"
   ]
  },
  {
   "cell_type": "code",
   "execution_count": 165,
   "metadata": {},
   "outputs": [],
   "source": [
    "DFobs.dropna(inplace=True)"
   ]
  },
  {
   "cell_type": "code",
   "execution_count": 192,
   "metadata": {},
   "outputs": [
    {
     "name": "stderr",
     "output_type": "stream",
     "text": [
      "C:\\Users\\Abubakar\\Anaconda3\\envs\\tfdeeplearning\\lib\\site-packages\\ipykernel_launcher.py:2: SettingWithCopyWarning: \n",
      "A value is trying to be set on a copy of a slice from a DataFrame.\n",
      "Try using .loc[row_indexer,col_indexer] = value instead\n",
      "\n",
      "See the caveats in the documentation: http://pandas.pydata.org/pandas-docs/stable/user_guide/indexing.html#returning-a-view-versus-a-copy\n",
      "  \n"
     ]
    }
   ],
   "source": [
    "observationsValues['VALUE'].unique()\n",
    "observationsValues['VALUE'] = observationsValues['VALUE'].map(lambda x: x.lstrip('+-').rstrip('Never smoker'))\n"
   ]
  },
  {
   "cell_type": "code",
   "execution_count": 193,
   "metadata": {},
   "outputs": [
    {
     "data": {
      "text/plain": [
       "2486"
      ]
     },
     "execution_count": 193,
     "metadata": {},
     "output_type": "execute_result"
    }
   ],
   "source": [
    "len(observations['DATE'].unique())"
   ]
  },
  {
   "cell_type": "code",
   "execution_count": 194,
   "metadata": {},
   "outputs": [],
   "source": [
    "Obsvals=observationsValues.groupby(observationsValues['DATE'])"
   ]
  },
  {
   "cell_type": "code",
   "execution_count": 196,
   "metadata": {},
   "outputs": [
    {
     "data": {
      "text/plain": [
       "<pandas.core.groupby.generic.DataFrameGroupBy object at 0x000001B85DC65198>"
      ]
     },
     "execution_count": 196,
     "metadata": {},
     "output_type": "execute_result"
    }
   ],
   "source": [
    "Obsvals"
   ]
  },
  {
   "cell_type": "code",
   "execution_count": 198,
   "metadata": {},
   "outputs": [
    {
     "name": "stderr",
     "output_type": "stream",
     "text": [
      "ERROR: Could not find a version that satisfies the requirement luminaire (from versions: none)\n",
      "ERROR: No matching distribution found for luminaire\n",
      "WARNING: You are using pip version 20.0.2; however, version 20.3.4 is available.\n",
      "You should consider upgrading via the 'c:\\users\\abubakar\\anaconda3\\envs\\tfdeeplearning\\python.exe -m pip install --upgrade pip' command.\n"
     ]
    }
   ],
   "source": [
    "!pip install luminaire"
   ]
  },
  {
   "cell_type": "code",
   "execution_count": 200,
   "metadata": {},
   "outputs": [],
   "source": [
    "DFmeds.to_csv('./MedicationsCSV.csv')"
   ]
  },
  {
   "cell_type": "code",
   "execution_count": 225,
   "metadata": {},
   "outputs": [],
   "source": [
    "idx = pd.date_range(min(medstopdf['End_Dates']), max(medstopdf['End_Dates']))\n",
    "Dfmed=DFmeds\n",
    "Dfmed=Dfmed.reindex(idx,fill_value=0)"
   ]
  },
  {
   "cell_type": "code",
   "execution_count": 226,
   "metadata": {},
   "outputs": [
    {
     "data": {
      "text/html": [
       "<div>\n",
       "<style scoped>\n",
       "    .dataframe tbody tr th:only-of-type {\n",
       "        vertical-align: middle;\n",
       "    }\n",
       "\n",
       "    .dataframe tbody tr th {\n",
       "        vertical-align: top;\n",
       "    }\n",
       "\n",
       "    .dataframe thead th {\n",
       "        text-align: right;\n",
       "    }\n",
       "</style>\n",
       "<table border=\"1\" class=\"dataframe\">\n",
       "  <thead>\n",
       "    <tr style=\"text-align: right;\">\n",
       "      <th></th>\n",
       "      <th>meanCost</th>\n",
       "      <th>SumCost</th>\n",
       "      <th>MaxCost</th>\n",
       "    </tr>\n",
       "  </thead>\n",
       "  <tbody>\n",
       "    <tr>\n",
       "      <th>1980-11-19</th>\n",
       "      <td>6204.381429</td>\n",
       "      <td>130292.01</td>\n",
       "      <td>72196.26</td>\n",
       "    </tr>\n",
       "    <tr>\n",
       "      <th>1980-11-20</th>\n",
       "      <td>0.000000</td>\n",
       "      <td>0.00</td>\n",
       "      <td>0.00</td>\n",
       "    </tr>\n",
       "    <tr>\n",
       "      <th>1980-11-21</th>\n",
       "      <td>0.000000</td>\n",
       "      <td>0.00</td>\n",
       "      <td>0.00</td>\n",
       "    </tr>\n",
       "    <tr>\n",
       "      <th>1980-11-22</th>\n",
       "      <td>0.000000</td>\n",
       "      <td>0.00</td>\n",
       "      <td>0.00</td>\n",
       "    </tr>\n",
       "    <tr>\n",
       "      <th>1980-11-23</th>\n",
       "      <td>0.000000</td>\n",
       "      <td>0.00</td>\n",
       "      <td>0.00</td>\n",
       "    </tr>\n",
       "    <tr>\n",
       "      <th>...</th>\n",
       "      <td>...</td>\n",
       "      <td>...</td>\n",
       "      <td>...</td>\n",
       "    </tr>\n",
       "    <tr>\n",
       "      <th>2020-12-13</th>\n",
       "      <td>564.100000</td>\n",
       "      <td>564.10</td>\n",
       "      <td>564.10</td>\n",
       "    </tr>\n",
       "    <tr>\n",
       "      <th>2020-12-14</th>\n",
       "      <td>0.000000</td>\n",
       "      <td>0.00</td>\n",
       "      <td>0.00</td>\n",
       "    </tr>\n",
       "    <tr>\n",
       "      <th>2020-12-15</th>\n",
       "      <td>0.000000</td>\n",
       "      <td>0.00</td>\n",
       "      <td>0.00</td>\n",
       "    </tr>\n",
       "    <tr>\n",
       "      <th>2020-12-16</th>\n",
       "      <td>0.000000</td>\n",
       "      <td>0.00</td>\n",
       "      <td>0.00</td>\n",
       "    </tr>\n",
       "    <tr>\n",
       "      <th>2020-12-17</th>\n",
       "      <td>3693.099556</td>\n",
       "      <td>166189.48</td>\n",
       "      <td>38733.03</td>\n",
       "    </tr>\n",
       "  </tbody>\n",
       "</table>\n",
       "<p>14639 rows × 3 columns</p>\n",
       "</div>"
      ],
      "text/plain": [
       "               meanCost    SumCost   MaxCost\n",
       "1980-11-19  6204.381429  130292.01  72196.26\n",
       "1980-11-20     0.000000       0.00      0.00\n",
       "1980-11-21     0.000000       0.00      0.00\n",
       "1980-11-22     0.000000       0.00      0.00\n",
       "1980-11-23     0.000000       0.00      0.00\n",
       "...                 ...        ...       ...\n",
       "2020-12-13   564.100000     564.10    564.10\n",
       "2020-12-14     0.000000       0.00      0.00\n",
       "2020-12-15     0.000000       0.00      0.00\n",
       "2020-12-16     0.000000       0.00      0.00\n",
       "2020-12-17  3693.099556  166189.48  38733.03\n",
       "\n",
       "[14639 rows x 3 columns]"
      ]
     },
     "execution_count": 226,
     "metadata": {},
     "output_type": "execute_result"
    }
   ],
   "source": [
    "Dfmed"
   ]
  },
  {
   "cell_type": "code",
   "execution_count": 240,
   "metadata": {},
   "outputs": [
    {
     "data": {
      "image/png": "[encoded data removed]",
      "text/plain": [
       "<matplotlib.figure.Figure at 0x1b85d2c1cf8>"
      ]
     },
     "metadata": {},
     "output_type": "display_data"
    },
    {
     "data": {
      "text/plain": [
       "<matplotlib.figure.Figure at 0x1b85bf82b70>"
      ]
     },
     "metadata": {},
     "output_type": "display_data"
    },
    {
     "data": {
      "text/plain": [
       "<matplotlib.figure.Figure at 0x1b85bea6b38>"
      ]
     },
     "metadata": {},
     "output_type": "display_data"
    },
    {
     "data": {
      "image/png": "[encoded data removed]",
      "text/plain": [
       "<matplotlib.figure.Figure at 0x1b85c047e80>"
      ]
     },
     "metadata": {},
     "output_type": "display_data"
    },
    {
     "data": {
      "text/plain": [
       "<matplotlib.figure.Figure at 0x1b85d2fb470>"
      ]
     },
     "metadata": {},
     "output_type": "display_data"
    },
    {
     "data": {
      "text/plain": [
       "<matplotlib.figure.Figure at 0x1b85d598d68>"
      ]
     },
     "metadata": {},
     "output_type": "display_data"
    },
    {
     "data": {
      "image/png": "[encoded data removed]",
      "text/plain": [
       "<matplotlib.figure.Figure at 0x1b85e3a87b8>"
      ]
     },
     "metadata": {},
     "output_type": "display_data"
    },
    {
     "data": {
      "text/plain": [
       "<matplotlib.figure.Figure at 0x1b85bf13ba8>"
      ]
     },
     "metadata": {},
     "output_type": "display_data"
    },
    {
     "data": {
      "text/plain": [
       "<matplotlib.figure.Figure at 0x1b85bcfcba8>"
      ]
     },
     "metadata": {},
     "output_type": "display_data"
    },
    {
     "data": {
      "image/png": "[encoded data removed]",
      "text/plain": [
       "<matplotlib.figure.Figure at 0x1b85dc8c208>"
      ]
     },
     "metadata": {},
     "output_type": "display_data"
    },
    {
     "data": {
      "text/plain": [
       "<matplotlib.figure.Figure at 0x1b85dca31d0>"
      ]
     },
     "metadata": {},
     "output_type": "display_data"
    },
    {
     "data": {
      "image/png": "[encoded data removed]",
      "text/plain": [
       "<matplotlib.figure.Figure at 0x1b85d09e128>"
      ]
     },
     "metadata": {},
     "output_type": "display_data"
    },
    {
     "data": {
      "text/plain": [
       "<matplotlib.figure.Figure at 0x1b85d75ab00>"
      ]
     },
     "metadata": {},
     "output_type": "display_data"
    },
    {
     "data": {
      "image/png": "[encoded data removed]",
      "text/plain": [
       "<matplotlib.figure.Figure at 0x1b85dca9518>"
      ]
     },
     "metadata": {},
     "output_type": "display_data"
    },
    {
     "data": {
      "text/plain": [
       "<matplotlib.figure.Figure at 0x1b85d7335f8>"
      ]
     },
     "metadata": {},
     "output_type": "display_data"
    }
   ],
   "source": [
    "from matplotlib.pyplot import figure\n",
    "\n",
    "figure(num=None, figsize=(17,5 ), dpi=80, facecolor='w', edgecolor='k')\n",
    "plt.scatter(Dfmed.index,Dfmed['SumCost'])\n",
    "plt.gcf().autofmt_xdate()\n",
    "plt.xlabel('Dates',fontsize=15)\n",
    "plt.ylabel('Cost Sum',fontsize=15)\n",
    "figure(figsize=(10,1))\n",
    "plt.gcf().autofmt_xdate()\n",
    "\n",
    "figure(num=None, figsize=(17,5 ), dpi=80, facecolor='w', edgecolor='k')\n",
    "plt.scatter(Dfmed.index,Dfmed['MaxCost'])\n",
    "plt.gcf().autofmt_xdate()\n",
    "plt.xlabel('Dates',fontsize=15)\n",
    "plt.ylabel('Cost Max',fontsize=15)\n",
    "figure(figsize=(10,1))\n",
    "plt.gcf().autofmt_xdate()\n",
    "\n",
    "\n",
    "figure(num=None, figsize=(17,5 ), dpi=80, facecolor='w', edgecolor='k')\n",
    "plt.scatter(Dfmed.index,Dfmed['meanCost'])\n",
    "plt.gcf().autofmt_xdate()\n",
    "plt.xlabel('Dates',fontsize=15)\n",
    "plt.ylabel('Cost Mean',fontsize=15)\n",
    "figure(figsize=(10,1))\n",
    "plt.gcf().autofmt_xdate()\n",
    "\n",
    "plt.show()"
   ]
  },
  {
   "cell_type": "code",
   "execution_count": 233,
   "metadata": {},
   "outputs": [
    {
     "data": {
      "image/png": "[encoded data removed]",
      "text/plain": [
       "<matplotlib.figure.Figure at 0x1b85bf85240>"
      ]
     },
     "metadata": {},
     "output_type": "display_data"
    }
   ],
   "source": [
    "plt.plot(Dfmed['SumCost'])\n",
    "plt.show()"
   ]
  },
  {
   "cell_type": "code",
   "execution_count": 234,
   "metadata": {},
   "outputs": [
    {
     "data": {
      "text/plain": [
       "DatetimeIndex(['1980-11-19', '1980-11-20', '1980-11-21', '1980-11-22',\n",
       "               '1980-11-23', '1980-11-24', '1980-11-25', '1980-11-26',\n",
       "               '1980-11-27', '1980-11-28',\n",
       "               ...\n",
       "               '2020-12-08', '2020-12-09', '2020-12-10', '2020-12-11',\n",
       "               '2020-12-12', '2020-12-13', '2020-12-14', '2020-12-15',\n",
       "               '2020-12-16', '2020-12-17'],\n",
       "              dtype='datetime64[ns]', length=14639, freq='D')"
      ]
     },
     "execution_count": 234,
     "metadata": {},
     "output_type": "execute_result"
    }
   ],
   "source": [
    "Dfmed.index"
   ]
  },
  {
   "cell_type": "code",
   "execution_count": 242,
   "metadata": {},
   "outputs": [],
   "source": [
    "Dfmed.to_csv('./MedicationLatest.csv')"
   ]
  },
  {
   "cell_type": "code",
   "execution_count": null,
   "metadata": {
    "collapsed": true
   },
   "outputs": [],
   "source": []
  }
 ],
 "metadata": {
  "kernelspec": {
   "display_name": "Python 3",
   "language": "python",
   "name": "python3"
  },
  "language_info": {
   "codemirror_mode": {
    "name": "ipython",
    "version": 3
   },
   "file_extension": ".py",
   "mimetype": "text/x-python",
   "name": "python",
   "nbconvert_exporter": "python",
   "pygments_lexer": "ipython3",
   "version": "3.5.4"
  }
 },
 "nbformat": 4,
 "nbformat_minor": 2
}
